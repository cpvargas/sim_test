{
 "cells": [
  {
   "cell_type": "code",
   "execution_count": 1,
   "metadata": {},
   "outputs": [
    {
     "name": "stderr",
     "output_type": "stream",
     "text": [
      "/home/cvargas/.local/lib/python2.7/site-packages/pyfits/__init__.py:22: PyFITSDeprecationWarning: PyFITS is deprecated, please use astropy.io.fits\n",
      "  PyFITSDeprecationWarning)  # noqa\n"
     ]
    }
   ],
   "source": [
    "from flipper import liteMap\n",
    "import numpy as np\n",
    "import matplotlib.pyplot as plt\n",
    "import scipy\n",
    "from cactusLib.cactusUtils import saveFits\n",
    "\n",
    "RA0 = 3.\n",
    "RA1 = 106.75\n",
    "DEC0 = -56.2\n",
    "DEC1 = -49.0\n",
    "\n",
    "filename = \"/home/cvargas/data/act/act_depots/cactus_depots/20180419/ACT_220_south_season_2_1way_v3_srcfree.fits\"\n",
    "lt = liteMap.liteMapFromFits(filename)\n",
    "\n"
   ]
  },
  {
   "cell_type": "code",
   "execution_count": 2,
   "metadata": {},
   "outputs": [],
   "source": [
    "dx = 50\n",
    "dy = 50"
   ]
  },
  {
   "cell_type": "code",
   "execution_count": 3,
   "metadata": {},
   "outputs": [
    {
     "name": "stdout",
     "output_type": "stream",
     "text": [
      "10365 230 2884 1120\n"
     ]
    }
   ],
   "source": [
    "X0,Y0 = lt.skyToPix(RA0,DEC0)\n",
    "X1,Y1 = lt.skyToPix(RA1,DEC1)\n",
    "\n",
    "X0 = np.int(np.round(X0,0))\n",
    "Y0 = np.int(np.round(Y0,0))\n",
    "X1 = np.int(np.round(X1,0))\n",
    "Y1 = np.int(np.round(Y1,0))\n",
    "\n",
    "print X0,Y0,X1,Y1"
   ]
  },
  {
   "cell_type": "code",
   "execution_count": 4,
   "metadata": {},
   "outputs": [],
   "source": [
    "if X1>X0:\n",
    "    X0 -= dx\n",
    "    X1 += dx\n",
    "else:\n",
    "    X0 += dx\n",
    "    X1 -= dx\n",
    "if Y1>Y0:\n",
    "    Y0 -= dy\n",
    "    Y1 += dy\n",
    "else:\n",
    "    Y0 += dy\n",
    "    Y1 -= dy"
   ]
  },
  {
   "cell_type": "code",
   "execution_count": 5,
   "metadata": {},
   "outputs": [],
   "source": [
    "pad = 15\n",
    "extraYPad = 0\n",
    "apodNx = X0-X1\n",
    "apodNy = Y1-Y0\n",
    "apod = np.zeros((apodNy,apodNx))\n",
    "apod[pad+extraYPad:apodNy-pad-extraYPad,pad:apodNx-pad] = 1.0\n",
    "T_apod = scipy.ndimage.gaussian_filter(apod,10,mode=\"constant\")"
   ]
  },
  {
   "cell_type": "code",
   "execution_count": 6,
   "metadata": {},
   "outputs": [],
   "source": [
    "taper = lt.data*0.\n",
    "taper[Y0:Y1,X1:X0] = T_apod"
   ]
  },
  {
   "cell_type": "code",
   "execution_count": 7,
   "metadata": {},
   "outputs": [],
   "source": [
    "#%matplotlib auto"
   ]
  },
  {
   "cell_type": "code",
   "execution_count": 8,
   "metadata": {},
   "outputs": [
    {
     "data": {
      "image/png": "[encoded data removed]",
      "text/plain": [
       "<Figure size 432x288 with 1 Axes>"
      ]
     },
     "metadata": {},
     "output_type": "display_data"
    }
   ],
   "source": [
    "plt.imshow(taper)\n",
    "plt.show()"
   ]
  },
  {
   "cell_type": "code",
   "execution_count": 9,
   "metadata": {},
   "outputs": [],
   "source": [
    "nRA0,nDEC0 = lt.pixToSky(X0,Y0)\n",
    "nRA1,nDEC1 = lt.pixToSky(X1,Y1)"
   ]
  },
  {
   "cell_type": "code",
   "execution_count": null,
   "metadata": {},
   "outputs": [],
   "source": [
    "header = fits.getheader(filename)"
   ]
  },
  {
   "cell_type": "code",
   "execution_count": 10,
   "metadata": {},
   "outputs": [
    {
     "name": "stderr",
     "output_type": "stream",
     "text": [
      "WARNING: AstropyDeprecationWarning: \"clobber\" was deprecated in version 2.0 and will be removed in a future version. Use argument \"overwrite\" instead. [astropy.utils.decorators]\n"
     ]
    }
   ],
   "source": [
    "saveFits(taper,\"taper.fits\",header)"
   ]
  },
  {
   "cell_type": "code",
   "execution_count": 11,
   "metadata": {},
   "outputs": [
    {
     "name": "stdout",
     "output_type": "stream",
     "text": [
      "mapLims = [2.302366548, 107.448395466, -56.6411003799, -48.6294323128]\n"
     ]
    }
   ],
   "source": [
    "print \"mapLims = [{}, {}, {}, {}]\".format(nRA0,nRA1,nDEC0,nDEC1)\n"
   ]
  }
 ],
 "metadata": {
  "kernelspec": {
   "display_name": "Python 2",
   "language": "python",
   "name": "python2"
  },
  "language_info": {
   "codemirror_mode": {
    "name": "ipython",
    "version": 2
   },
   "file_extension": ".py",
   "mimetype": "text/x-python",
   "name": "python",
   "nbconvert_exporter": "python",
   "pygments_lexer": "ipython2",
   "version": "2.7.15"
  }
 },
 "nbformat": 4,
 "nbformat_minor": 2
}
